{
 "cells": [
  {
   "cell_type": "code",
   "execution_count": 14,
   "metadata": {},
   "outputs": [],
   "source": [
    "from tqdm.notebook import tqdm\n",
    "import numpy as np\n",
    "import requests"
   ]
  },
  {
   "cell_type": "code",
   "execution_count": 45,
   "metadata": {},
   "outputs": [
    {
     "name": "stdout",
     "output_type": "stream",
     "text": [
      "Number of original PDBs: 60159\n",
      "Searching corresponding UniProt IDs...\n"
     ]
    },
    {
     "data": {
      "application/vnd.jupyter.widget-view+json": {
       "model_id": "043483d10802451881fe9f2238dd3923",
       "version_major": 2,
       "version_minor": 0
      },
      "text/plain": [
       "  0%|          | 0/60159 [00:00<?, ?it/s]"
      ]
     },
     "metadata": {},
     "output_type": "display_data"
    },
    {
     "name": "stdout",
     "output_type": "stream",
     "text": [
      "Number of unique UniProt IDs: 8137\n"
     ]
    }
   ],
   "source": [
    "SERVER_URL = \"https://www.ebi.ac.uk/pdbe/api\"\n",
    "UNIPROT = \"/mappings/uniprot\"\n",
    "pdblist = np.loadtxt('/home/marco/Documents/GitHub/CBP/code/DatabaseCuration/PDB_ids_20230201.csv',dtype=str)\n",
    "# initialize the list of UniProt IDs\n",
    "ids = list()\n",
    "print(f'Number of original PDBs: {len(pdblist)}')\n",
    "print('Searching corresponding UniProt IDs...')\n",
    "for pdbCode in tqdm(pdblist):\n",
    "\n",
    "    # get the possible UniProt ID matching the pdb\n",
    "    full_url = \"%s/%s/%s?pretty=false\" % (SERVER_URL, UNIPROT,pdbCode.lower())\n",
    "    # use requests to get the data\n",
    "    # try until the request is successful\n",
    "    while True:\n",
    "        try:\n",
    "            json_results = requests.get( full_url ).json()\n",
    "            break\n",
    "        except:\n",
    "            continue\n",
    "    \n",
    "    # select the UniProt ID of human proteins in pdb\n",
    "    for l in list(json_results[pdbCode.lower()]['UniProt'].keys()):\n",
    "        if 'HUMAN' in json_results[pdbCode.lower()]['UniProt'][l]['identifier']:\n",
    "            ids.append(l)\n",
    "\n",
    "# delete duplicate IDs\n",
    "ids = np.unique(np.array(ids))\n",
    "print(f'Number of unique UniProt IDs: {len(ids)}')"
   ]
  },
  {
   "cell_type": "code",
   "execution_count": 47,
   "metadata": {},
   "outputs": [],
   "source": [
    "# save the list of UniProt IDs\n",
    "np.savetxt('/home/marco/Documents/GitHub/CBP/code/DatabaseCuration/UniProt_ids_20230201.csv',ids,fmt='%s')"
   ]
  }
 ],
 "metadata": {
  "kernelspec": {
   "display_name": "cbp",
   "language": "python",
   "name": "python3"
  },
  "language_info": {
   "codemirror_mode": {
    "name": "ipython",
    "version": 3
   },
   "file_extension": ".py",
   "mimetype": "text/x-python",
   "name": "python",
   "nbconvert_exporter": "python",
   "pygments_lexer": "ipython3",
   "version": "3.11.0"
  },
  "orig_nbformat": 4
 },
 "nbformat": 4,
 "nbformat_minor": 2
}
